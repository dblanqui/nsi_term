{
 "cells": [
  {
   "cell_type": "markdown",
   "metadata": {},
   "source": [
    "# Utiliser une base de données sqlite dans un programme Python"
   ]
  },
  {
   "cell_type": "markdown",
   "metadata": {},
   "source": [
    "La bibliothèque standard de Python inclut un moteur de base de données relationnelles très performant nommé SQLite95 , qui a été développé indépendamment en C, et implémente en grande partie le standard SQL-92.\n",
    "\n",
    "Cela signifie donc que vous pouvez écrire en Python une application contenant son propre SGBDR intégré, sans qu’il soit nécessaire d’installer quoi que ce soit d’autre, et que les performances seront au rendez-vous."
   ]
  },
  {
   "cell_type": "markdown",
   "metadata": {},
   "source": [
    "## I-Établir une connexion avec la base de données et initialiser un objet curseur\n",
    "On commence par créer un objet-connexion, à l’aide de la méthode connect() de la bibliothèque sqlite. Cet objet assurera l’interface entre votre programme et la base de données.\n",
    "On initialise ensuite un objet curseur, sorte de tampon mémoire intermédiaire, destiné à mémoriser temporairement les données en cours de traitement, ainsi que les opérations que vous effectuez sur elles, avant leur transfert définitif dans la base de données.<br />\n",
    "Syntaxe : <br />\n",
    "```python\n",
    "import sqlite3\n",
    " # Etablir la connexion\n",
    " connexion = sqlite3.connect(db_fichier)\n",
    " # Créer le curseur\n",
    " curseur=connexion.cursor()\n",
    "```\n",
    "Remarque : <br>\n",
    "Il est préférable de mettre en place une gestion d'exceptions en utilisant le jeu d'erreurs de la bibliothèque sqlite3 en cas de problème lors de la connexion à la base de données.<br />\n",
    "Tester le code suivant pour vous connecter à la base de données cinema.sqlite de schéma relationnel suivant : <br />\n",
    "![Schéma](schema_relationnel.png)"
   ]
  },
  {
   "cell_type": "code",
   "execution_count": null,
   "metadata": {},
   "outputs": [],
   "source": [
    "import sqlite3\n",
    "\n",
    "def connection_db(db_fichier):\n",
    "    \"\"\"\n",
    "    Crée une connection à une base de données spécifiée dans l'argument db_fichier\n",
    "    :param db_fichier:\n",
    "        chemin du fichier de la base de données sous la forme d'une chaine de caractères\n",
    "    :return:\n",
    "        objet de connection or None\n",
    "    \"\"\"\n",
    "    connexion = None\n",
    "    try:\n",
    "        connexion = sqlite3.connect(db_fichier)\n",
    "        return connexion\n",
    "    except sqlite3.Error as e:\n",
    "        print(e)\n",
    "        return None\n",
    "    \n",
    "bdd=connection_db(\"cinema.sqlite\")\n",
    "curseur=bdd.cursor()\n",
    "print(bdd)\n",
    "print(curseur)"
   ]
  },
  {
   "cell_type": "markdown",
   "metadata": {},
   "source": [
    "## II-Requêtes sur la base de données.\n",
    "### 1-Selection de données dans la base de données.\n",
    "L’interrogation de la base s’effectue bien évidemment à l’aide de requêtes SQL, que l’on confie à la méthode execute() du curseur, toujours sous la forme de chaînes de caractères :\n",
    "Exemple : <br />\n",
    "```python\n",
    " # Récupérer le contenu de la table Films\n",
    "   requete=\"SELECT * FROM Films;\"\n",
    "   curseur.execute(requete)\n",
    "```\n",
    "On peut récupérer les résultats de la requête sous forme d'une liste de tuples à l'aide de la méthode fetchall() :\n",
    "Exemple : <br />\n",
    "```python\n",
    " # Récupération des données sous forme d'une liste de tuples\n",
    "   curseur.fetchall()\n",
    "```\n",
    "Variantes : Les méthodes fetchone() et fetchmany(n) permettent de retourner respectivement le premier ou les n premiers enregistrements des résultats de la requête. Tester cela dans la cellule suivante."
   ]
  },
  {
   "cell_type": "code",
   "execution_count": null,
   "metadata": {},
   "outputs": [],
   "source": [
    "requete=\"SELECT * FROM Films;\"\n",
    "curseur.execute(requete)\n",
    "print(curseur.fetchall())"
   ]
  },
  {
   "cell_type": "markdown",
   "metadata": {},
   "source": [
    "On peut bien sur utiliser des noms de variables python dans les conditions de la requête, soit : \n",
    "* en utilisant l'opérateur de concaténation +\n",
    "Exemple : <br />\n",
    "```python\n",
    "   nom='co'\n",
    "   curseur.execute(\"SELECT * FROM Personnes WHERE NOM LIKE '%\"+nom+\"%';\")\n",
    "   curseur.fetchall()\n",
    "```\n",
    "* en utilisant une f-String\n",
    "```python\n",
    "   nom='co'\n",
    "   curseur.execute(f\"SELECT * FROM Personnes WHERE NOM LIKE '%{nom}%';\")\n",
    "   curseur.fetchall()\n",
    "```\n",
    "Tester les exemples ci-dessus dans la cellule de code suivante."
   ]
  },
  {
   "cell_type": "code",
   "execution_count": null,
   "metadata": {},
   "outputs": [],
   "source": [
    "#Tester les requêtes avec utilisation d'une variable Python ici"
   ]
  },
  {
   "cell_type": "markdown",
   "metadata": {},
   "source": [
    "### 2-Insertion, mise à jour et suppression dans la base de données.\n",
    "Tant que le curseur reste ouvert, vous pouvez bien entendu ajouter des enregistrements supplémentaires :\n",
    "Exemple :\n",
    "```python\n",
    " # Insertion d'un tupple dans la base\n",
    "   cur.execute(\"INSERT INTO Personnes(id,nom,taille) VALUES(19,'Ricard',1.75);\")\n",
    "```\n",
    "Rajouter dans votre base le cinéma d'AUCH : Ciné 32 situé Allée des Arts, 32000 Auch et comportant 5 salles et 870 sièges. Tester le résultat avec une requête sur la table Films."
   ]
  },
  {
   "cell_type": "code",
   "execution_count": null,
   "metadata": {},
   "outputs": [],
   "source": [
    "#requete pour insérer Ciné 32\n",
    "\n",
    "#Vérifier le résultat\n",
    "requete=\"SELECT * FROM Cinemas;\"\n",
    "curseur.execute(requete)\n",
    "curseur.fetchall()"
   ]
  },
  {
   "cell_type": "markdown",
   "metadata": {},
   "source": [
    "On va maintenant fermer le curseur et la connexion à la base de données, puis les ré-ouvrir pour vérifier si l'enregistrement a été effectué."
   ]
  },
  {
   "cell_type": "code",
   "execution_count": null,
   "metadata": {},
   "outputs": [],
   "source": [
    "#On cloture le curseur et on le reouvre.\n",
    "curseur.close()\n",
    "bdd.close()\n",
    "bdd=connection_db(\"cinema.sqlite\")\n",
    "curseur=bdd.cursor()\n",
    "\n",
    "#On refait le test précédent\n",
    "requete=\"SELECT * FROM Cinemas;\"\n",
    "curseur.execute(requete)\n",
    "curseur.fetchall()"
   ]
  },
  {
   "cell_type": "markdown",
   "metadata": {},
   "source": [
    "On constate que l'enregistrement ne s'est pas fait dans la base. En fait toutes les opérations précédentes ont été réalisées en mémoire vive. Pour enregistrer réellement les données dans la base données il faut utiliser la méthode commit().Vous pouvez donc annuler toutes les modifications apportées depuis le commit() précédent, en refermant la connexion à l’aide de l’instruction conn.close()\n",
    "Exemple :\n",
    "```python\n",
    " # Enregistrement des modifications apportées à la base\n",
    "   bdd.commit()\n",
    "```\n"
   ]
  },
  {
   "cell_type": "markdown",
   "metadata": {},
   "source": [
    "### Annexe : quelques petites requêtes à écrire sur cette base de données\n",
    "\n",
    "Modifiez le nom de l'acteur : Morgan Freeman (et pas Frimane) <br />\n",
    "Modifiez la date de sortie du Films Seven : 1995 (et pas 1895) <br />\n",
    "Modifiez le rôle de Leonardo DiCaprio dans Inception : Cobb (et pas Kobe) <br />\n",
    "Supprimez le cinéma “Ciné 32” ajouté précédemment. <br />"
   ]
  },
  {
   "cell_type": "code",
   "execution_count": null,
   "metadata": {},
   "outputs": [],
   "source": []
  }
 ],
 "metadata": {
  "kernelspec": {
   "display_name": "Python 3",
   "language": "python",
   "name": "python3"
  },
  "language_info": {
   "codemirror_mode": {
    "name": "ipython",
    "version": 3
   },
   "file_extension": ".py",
   "mimetype": "text/x-python",
   "name": "python",
   "nbconvert_exporter": "python",
   "pygments_lexer": "ipython3",
   "version": "3.8.3"
  }
 },
 "nbformat": 4,
 "nbformat_minor": 4
}
